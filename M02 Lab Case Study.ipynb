{
 "cells": [
  {
   "cell_type": "code",
   "execution_count": 30,
   "id": "fe88057d",
   "metadata": {},
   "outputs": [
    {
     "name": "stdout",
     "output_type": "stream",
     "text": [
      "Enter the student's last name: Flores\n",
      "Enter the student's first name: Angel\n",
      "Enter the student's GPA: 3.5\n",
      "Angel Flores has made the Dean's List.\n",
      "Enter the student's last name: Flores\n",
      "Enter the student's first name: Sonia\n",
      "Enter the student's GPA: 3.2\n",
      "Enter the student's last name: Flores\n",
      "Enter the student's first name: Miguel\n",
      "Enter the student's GPA: 3.4\n",
      "Miguel Flores has made the Honor Roll.\n",
      "Enter the student's last name: Flores\n",
      "Enter the student's first name: Guadalupe\n",
      "Enter the student's GPA: 3.7\n",
      "Guadalupe Flores has made the Dean's List.\n",
      "Enter the student's last name: Flores\n",
      "Enter the student's first name: Roman\n",
      "Enter the student's GPA: 2.5\n",
      "Enter the student's last name: ZZZ\n"
     ]
    }
   ],
   "source": [
    "### Angel Flores Figueroa\n",
    "### M02 Lb Case Study\n",
    "### Program prompts user to enter name and gpa of each student\n",
    "### and outputs whether they made the Dean's list or made the Honor Roll\n",
    "\n",
    "while True:\n",
    "    last_name = input('Enter the student\\'s last name: ')\n",
    "    if last_name == 'ZZZ':\n",
    "        break\n",
    "    first_name = input('Enter the student\\'s first name: ')\n",
    "    gpa = float(input('Enter the student\\'s GPA: '))\n",
    "    if gpa >= 3.5:\n",
    "        print(f'{first_name} {last_name} has made the Dean\\'s List.')\n",
    "    elif gpa >= 3.25:\n",
    "        print(f'{first_name} {last_name} has made the Honor Roll.')\n"
   ]
  },
  {
   "cell_type": "code",
   "execution_count": null,
   "id": "f13334b8",
   "metadata": {},
   "outputs": [],
   "source": []
  }
 ],
 "metadata": {
  "kernelspec": {
   "display_name": "Python 3 (ipykernel)",
   "language": "python",
   "name": "python3"
  },
  "language_info": {
   "codemirror_mode": {
    "name": "ipython",
    "version": 3
   },
   "file_extension": ".py",
   "mimetype": "text/x-python",
   "name": "python",
   "nbconvert_exporter": "python",
   "pygments_lexer": "ipython3",
   "version": "3.10.9"
  }
 },
 "nbformat": 4,
 "nbformat_minor": 5
}
