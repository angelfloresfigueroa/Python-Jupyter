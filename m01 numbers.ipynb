{
 "cells": [
  {
   "cell_type": "code",
   "execution_count": 2,
   "id": "5811819c",
   "metadata": {},
   "outputs": [
    {
     "name": "stdout",
     "output_type": "stream",
     "text": [
      "3600\n"
     ]
    }
   ],
   "source": [
    "minute = 60\n",
    "hour = 60\n",
    "answer = minute * hour\n",
    "print(answer)"
   ]
  },
  {
   "cell_type": "code",
   "execution_count": null,
   "id": "00a084c6",
   "metadata": {},
   "outputs": [],
   "source": [
    "seconds_in_an_hour = 3600"
   ]
  },
  {
   "cell_type": "code",
   "execution_count": 4,
   "id": "7a1d5721",
   "metadata": {},
   "outputs": [
    {
     "name": "stdout",
     "output_type": "stream",
     "text": [
      "86400\n"
     ]
    }
   ],
   "source": [
    "seconds_in_an_hour = 3600\n",
    "seconds_in_a_day = seconds_in_an_hour * 24\n",
    "print(seconds_in_a_day)"
   ]
  },
  {
   "cell_type": "code",
   "execution_count": 5,
   "id": "df804711",
   "metadata": {},
   "outputs": [
    {
     "name": "stdout",
     "output_type": "stream",
     "text": [
      "24.0\n"
     ]
    }
   ],
   "source": [
    "seconds_per_day = 86400\n",
    "seconds_per_hour = 3600\n",
    "answer = seconds_per_day / seconds_per_hour\n",
    "print(answer)"
   ]
  },
  {
   "cell_type": "code",
   "execution_count": null,
   "id": "940b84f0",
   "metadata": {},
   "outputs": [],
   "source": []
  }
 ],
 "metadata": {
  "kernelspec": {
   "display_name": "Python 3 (ipykernel)",
   "language": "python",
   "name": "python3"
  },
  "language_info": {
   "codemirror_mode": {
    "name": "ipython",
    "version": 3
   },
   "file_extension": ".py",
   "mimetype": "text/x-python",
   "name": "python",
   "nbconvert_exporter": "python",
   "pygments_lexer": "ipython3",
   "version": "3.10.9"
  }
 },
 "nbformat": 4,
 "nbformat_minor": 5
}
