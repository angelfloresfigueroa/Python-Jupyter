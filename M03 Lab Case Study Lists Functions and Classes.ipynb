{
 "cells": [
  {
   "cell_type": "code",
   "execution_count": 12,
   "id": "377c4a15",
   "metadata": {},
   "outputs": [
    {
     "name": "stdout",
     "output_type": "stream",
     "text": [
      "Enter the year: 2022\n",
      "Enter the make: ford\n",
      "Enter the model: f150\n",
      "Enter the number of doors (2 or 4): 2\n",
      "Enter the type of roof (solid or sun roof): solid\n",
      "\n",
      "Car Information:\n",
      "Vehicle type: car\n",
      "Year: 2022\n",
      "Make: ford\n",
      "Model: f150\n",
      "Number of doors: 2\n",
      "Type of roof: solid\n"
     ]
    }
   ],
   "source": [
    "class Vehicle:\n",
    "   def __init__(self, vehicle_type):\n",
    "       self.vehicle_type = vehicle_type\n",
    "class Automobile(Vehicle):\n",
    "   def __init__(self, vehicle_type, year, make, model, doors, roof):\n",
    "       super().__init__(vehicle_type)\n",
    "       self.year = year\n",
    "       self.make = make\n",
    "       self.model = model\n",
    "       self.doors = doors\n",
    "       self.roof = roof\n",
    "def create_car():\n",
    "   vehicle_type = \"car\"\n",
    "   year = input(\"Enter the year: \")\n",
    "   make = input(\"Enter the make: \")\n",
    "   model = input(\"Enter the model: \")\n",
    "   doors = input(\"Enter the number of doors (2 or 4): \")\n",
    "   roof = input(\"Enter the type of roof (solid or sun roof): \")\n",
    "   car = Automobile(vehicle_type, year, make, model, doors, roof)\n",
    "   return car\n",
    "def display_car_info(car):\n",
    "   print(\"Vehicle type:\", car.vehicle_type)\n",
    "   print(\"Year:\", car.year)\n",
    "   print(\"Make:\", car.make)\n",
    "   print(\"Model:\", car.model)\n",
    "   print(\"Number of doors:\", car.doors)\n",
    "   print(\"Type of roof:\", car.roof)\n",
    "\n",
    "car = create_car()\n",
    "\n",
    "print(\"\\nCar Information:\")\n",
    "\n",
    "display_car_info(car)"
   ]
  },
  {
   "cell_type": "code",
   "execution_count": null,
   "id": "c130d3d9",
   "metadata": {},
   "outputs": [],
   "source": []
  }
 ],
 "metadata": {
  "kernelspec": {
   "display_name": "Python 3 (ipykernel)",
   "language": "python",
   "name": "python3"
  },
  "language_info": {
   "codemirror_mode": {
    "name": "ipython",
    "version": 3
   },
   "file_extension": ".py",
   "mimetype": "text/x-python",
   "name": "python",
   "nbconvert_exporter": "python",
   "pygments_lexer": "ipython3",
   "version": "3.10.9"
  }
 },
 "nbformat": 4,
 "nbformat_minor": 5
}
